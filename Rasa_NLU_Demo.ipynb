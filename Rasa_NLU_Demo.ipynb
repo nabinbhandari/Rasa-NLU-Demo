{
  "cells": [
    {
      "cell_type": "markdown",
      "metadata": {
        "id": "view-in-github",
        "colab_type": "text"
      },
      "source": [
        "<a href=\"https://colab.research.google.com/github/nabinbhandari/Rasa-NLU-Demo/blob/main/Rasa_NLU_Demo.ipynb\" target=\"_parent\"><img src=\"https://colab.research.google.com/assets/colab-badge.svg\" alt=\"Open In Colab\"/></a>"
      ]
    },
    {
      "cell_type": "markdown",
      "source": [
        "1. Install Dependencies"
      ],
      "metadata": {
        "id": "0V1hx0BRgFrX"
      }
    },
    {
      "cell_type": "code",
      "execution_count": null,
      "metadata": {
        "id": "LUqPnASyzDzH"
      },
      "outputs": [],
      "source": [
        "!pip install rasa_nlu\n",
        "!pip install spacy\n",
        "!pip install sklearn_crfsuite\n",
        "!python -m spacy download en_core_web_sm"
      ]
    },
    {
      "cell_type": "markdown",
      "source": [
        "2. Store Configuration to a file:"
      ],
      "metadata": {
        "id": "MKQ2y0N5e2QD"
      }
    },
    {
      "cell_type": "code",
      "source": [
        "configuration = \"\"\"\n",
        "language: \"en_core_web_sm\"\n",
        "\n",
        "pipeline:\n",
        "- name: \"nlp_spacy\"                   # loads the spacy language model\n",
        "- name: \"tokenizer_spacy\"             # splits the sentence into tokens\n",
        "- name: \"ner_crf\"                     # uses the pretrained spacy NER model\n",
        "- name: \"intent_featurizer_spacy\"     # transform the sentence into a vector representation\n",
        "- name: \"intent_classifier_sklearn\"   # uses the vector representation to classify using SVM\n",
        "- name: \"ner_synonyms\"                # trains the synonyms\n",
        "\"\"\" \n",
        "\n",
        "%store configuration > config.yml"
      ],
      "metadata": {
        "id": "5l0bjZ4Ja8dE"
      },
      "execution_count": null,
      "outputs": []
    },
    {
      "cell_type": "markdown",
      "source": [
        "3. Store Dataset to a file:"
      ],
      "metadata": {
        "id": "GhE5_-ime_bJ"
      }
    },
    {
      "cell_type": "code",
      "source": [
        "nlu_md = \"\"\"\n",
        "## intent: greet\n",
        "- hey\n",
        "- hello there\n",
        "- hi\n",
        "- hello there\n",
        "- good morning\n",
        "- good evening\n",
        "- moin\n",
        "- hey there\n",
        "- let's go\n",
        "- hey dude\n",
        "- goodmorning\n",
        "- goodevening\n",
        "- good afternoon\n",
        "\n",
        "## intent: goodbye\n",
        "- cu\n",
        "- good by\n",
        "- cee you later\n",
        "- good night\n",
        "- good afternoon\n",
        "- bye\n",
        "- goodbye\n",
        "- have a nice day\n",
        "- see you around\n",
        "- bye bye\n",
        "- see you later\n",
        "\n",
        "## intent: mood_affirm\n",
        "- yes\n",
        "- indeed\n",
        "- of course\n",
        "- that sounds good\n",
        "- correct\n",
        "- sure\n",
        "- sounds okay\n",
        "- okay\n",
        "- fine\n",
        "- alright\n",
        "- good idea\n",
        "\n",
        "## intent: mood_deny\n",
        "- no\n",
        "- never\n",
        "- I don't think so\n",
        "- don't like that\n",
        "- no way\n",
        "- not really\n",
        "- heck no\n",
        "- nope\n",
        "- probably no\n",
        "\n",
        "## intent: book_flight\n",
        "- View available flights\n",
        "- I want to search for flights\n",
        "- I want to search for flights to New York\n",
        "- Search for flights\n",
        "- I want to travel to Florida\n",
        "- Book a flight for me\n",
        "- Purchase a plane ticket\n",
        "- I want to go to London\n",
        "- I want to book a flight\n",
        "\"\"\"\n",
        "\n",
        "%store nlu_md > nlu.md"
      ],
      "metadata": {
        "id": "gW9v4f8ybo0z"
      },
      "execution_count": null,
      "outputs": []
    },
    {
      "cell_type": "markdown",
      "source": [
        "4. Load Training Data:"
      ],
      "metadata": {
        "id": "1BE-977_f8FF"
      }
    },
    {
      "cell_type": "code",
      "source": [
        "from rasa_nlu.training_data import load_data\n",
        "training_data = load_data('nlu.md')"
      ],
      "metadata": {
        "id": "lhO0p2VUcM1j"
      },
      "execution_count": null,
      "outputs": []
    },
    {
      "cell_type": "markdown",
      "source": [
        "5. Load Configuration:"
      ],
      "metadata": {
        "id": "O9bm6wVJgAxY"
      }
    },
    {
      "cell_type": "code",
      "source": [
        "from rasa_nlu import config\n",
        "configuration = config.load(\"config.yml\")"
      ],
      "metadata": {
        "id": "YwLSm4DbfV3_"
      },
      "execution_count": null,
      "outputs": []
    },
    {
      "cell_type": "markdown",
      "source": [
        "6. Train and save trained model to a file:"
      ],
      "metadata": {
        "id": "uxfSgnflgDaE"
      }
    },
    {
      "cell_type": "code",
      "source": [
        "from rasa_nlu.model import Trainer\n",
        "trainer = Trainer(configuration)\n",
        "trainer.train(training_data)\n",
        "\n",
        "model_location = trainer.persist('models/')\n",
        "print(\"Model saved to\", model_location)"
      ],
      "metadata": {
        "id": "OmiIpD7vcVGF"
      },
      "execution_count": null,
      "outputs": []
    },
    {
      "cell_type": "markdown",
      "source": [
        "7. Load Trained model from the file:"
      ],
      "metadata": {
        "id": "PZov-i7Zg3Ef"
      }
    },
    {
      "cell_type": "code",
      "source": [
        "from rasa_nlu.model import Interpreter\n",
        "interpreter = Interpreter.load(model_location)"
      ],
      "metadata": {
        "id": "RM_nhi5idcL5"
      },
      "execution_count": null,
      "outputs": []
    },
    {
      "cell_type": "markdown",
      "source": [
        "8. Test Custom Input"
      ],
      "metadata": {
        "id": "FrsUPhU8fuQM"
      }
    },
    {
      "cell_type": "code",
      "source": [
        "# input = \"book a plane ticket from Cincinnati to New Jersey\"\n",
        "input = \"I want to hear a funny story.\"\n",
        "res = interpreter.parse(input)\n",
        "print(res['intent'])"
      ],
      "metadata": {
        "id": "nXH5riDueHhR"
      },
      "execution_count": null,
      "outputs": []
    },
    {
      "cell_type": "markdown",
      "source": [
        "References: \n",
        "1. [https://colab.research.google.com/github/Euchigere/slackbot/blob/master/chatbot.ipynb](https://colab.research.google.com/github/Euchigere/slackbot/blob/master/chatbot.ipynb)\n",
        "2. [https://colab.research.google.com/github/mohammedterry/NLP_for_ML/blob/master/RASA.ipynb](https://colab.research.google.com/github/mohammedterry/NLP_for_ML/blob/master/RASA.ipynb)"
      ],
      "metadata": {
        "id": "AhsPRJ2Demju"
      }
    }
  ],
  "metadata": {
    "colab": {
      "name": "Rasa NLU Demo.ipynb",
      "provenance": [],
      "collapsed_sections": [],
      "authorship_tag": "ABX9TyNrEDVXFbiYCxRbF92LeLXF",
      "include_colab_link": true
    },
    "kernelspec": {
      "display_name": "Python 3",
      "name": "python3"
    },
    "language_info": {
      "name": "python"
    }
  },
  "nbformat": 4,
  "nbformat_minor": 0
}